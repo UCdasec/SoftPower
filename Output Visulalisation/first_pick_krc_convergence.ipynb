{
 "cells": [
  {
   "cell_type": "code",
   "execution_count": 1,
   "id": "004e19c6",
   "metadata": {},
   "outputs": [],
   "source": [
    "import numpy as np\n",
    "\n",
    "whole_pack = np.load('/home/mabon/model_backup/CNN/Output/stm/HW/rewritten/acm/S2_K3_100k_ELF/rank_dir/ranking_raw_data.npz')\n",
    "x, y = whole_pack['x'], whole_pack['y']\n"
   ]
  },
  {
   "cell_type": "code",
   "execution_count": 2,
   "id": "aa6105b9",
   "metadata": {
    "scrolled": false
   },
   "outputs": [
    {
     "name": "stdout",
     "output_type": "stream",
     "text": [
      "2001\n"
     ]
    }
   ],
   "source": [
    "for i in range(5000):\n",
    "    if(y[i]<0.5):\n",
    "        print(i)\n",
    "        break"
   ]
  },
  {
   "cell_type": "code",
   "execution_count": 20,
   "id": "1171d581",
   "metadata": {},
   "outputs": [
    {
     "data": {
      "text/plain": [
       "0.0"
      ]
     },
     "execution_count": 20,
     "metadata": {},
     "output_type": "execute_result"
    }
   ],
   "source": [
    "y[5000-1]"
   ]
  },
  {
   "cell_type": "code",
   "execution_count": null,
   "id": "3ffb79af",
   "metadata": {},
   "outputs": [],
   "source": []
  }
 ],
 "metadata": {
  "kernelspec": {
   "display_name": "Python 3 (ipykernel)",
   "language": "python",
   "name": "python3"
  },
  "language_info": {
   "codemirror_mode": {
    "name": "ipython",
    "version": 3
   },
   "file_extension": ".py",
   "mimetype": "text/x-python",
   "name": "python",
   "nbconvert_exporter": "python",
   "pygments_lexer": "ipython3",
   "version": "3.7.13"
  }
 },
 "nbformat": 4,
 "nbformat_minor": 5
}
