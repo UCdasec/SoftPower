{
  "nbformat": 4,
  "nbformat_minor": 0,
  "metadata": {
    "colab": {
      "provenance": [],
      "collapsed_sections": [
        "hPZfcshSR2I6",
        "V-h8anRIXOhM",
        "SZ30IGZ9WbUq",
        "STbrdDOYUMc_"
      ]
    },
    "kernelspec": {
      "name": "python3",
      "display_name": "Python 3"
    },
    "language_info": {
      "name": "python"
    },
    "accelerator": "TPU",
    "gpuClass": "standard"
  },
  "cells": [
    {
      "cell_type": "code",
      "execution_count": null,
      "metadata": {
        "id": "0thalbsTiZDa"
      },
      "outputs": [],
      "source": [
        "import matplotlib.pyplot as plt\n",
        "import matplotlib.ticker as ticker\n",
        "import math\n",
        "import numpy as np\n"
      ]
    },
    {
      "cell_type": "markdown",
      "source": [
        "# Xmega RW"
      ],
      "metadata": {
        "id": "hPZfcshSR2I6"
      }
    },
    {
      "cell_type": "code",
      "source": [
        "x=[i for i in range(340, 411)]\n",
        "y = [4155, 498, -1 , 494, 4248,\n",
        "           409, -1, 310, 4548, 324, \n",
        "           -1, 336, -1, 229, -1, 354, -1, 267, -1, 219, -1, \n",
        "           237, -1, 189,-1, 228,-1, 232, -1, 369, -1, 447,-1, \n",
        "           329, -1, 547,-1, 819, -1, 754, -1, 1051, -1, 689, -1, 1082,-1, \n",
        "           614, -1, 681, -1, 1188, -1, -1, -1, 3166, -1, 3323, -1, 2955, \n",
        "           -1, -1, -1, 2686, 2363,-1, 2377, 888, -1, 1321, -1]\n",
        "\n",
        "y = np.log2(y)"
      ],
      "metadata": {
        "colab": {
          "base_uri": "https://localhost:8080/"
        },
        "id": "8yEnH1Wuitt4",
        "outputId": "cc0560b6-4ac8-4a74-aab4-7f85ec0acb76"
      },
      "execution_count": null,
      "outputs": [
        {
          "output_type": "stream",
          "name": "stderr",
          "text": [
            "<ipython-input-3-f6b31446fa22>:10: RuntimeWarning: invalid value encountered in log2\n",
            "  y = np.log2(y)\n"
          ]
        }
      ]
    },
    {
      "cell_type": "markdown",
      "source": [
        "# For S1_K1 test with S2_K3_RW (OLD MODEL)\n",
        "\n"
      ],
      "metadata": {
        "id": "V-h8anRIXOhM"
      }
    },
    {
      "cell_type": "code",
      "source": [
        "x=[i for i in range(10, 61)]\n",
        "y = [ 3040, 1708, 3036, 1951, 2349, 2011, -1, 2539, 4147, 2537, -1, 2323, 3560, 3192,\n",
        "     -1, 4137, 4632, 4632, -1, 4529, 4353, 4628, -1, -1, -1, -1, -1, -1, 4094, -1, -1, -1, 4687,\n",
        "     -1, -1, 4868, 3056, 4812, -1, -1, 4647, 4891, -1, 4475, 1899, 3549, 4095, 4320, 2167, 2854, 3170]\n",
        "\n",
        "y = np.log2(y)"
      ],
      "metadata": {
        "colab": {
          "base_uri": "https://localhost:8080/"
        },
        "id": "RqbTaW4OXOBT",
        "outputId": "31e32aef-ed87-49dc-b3d3-5be128c0e321"
      },
      "execution_count": null,
      "outputs": [
        {
          "output_type": "stream",
          "name": "stderr",
          "text": [
            "<ipython-input-4-588ea8c1aa01>:6: RuntimeWarning: invalid value encountered in log2\n",
            "  y = np.log2(y)\n"
          ]
        }
      ]
    },
    {
      "cell_type": "markdown",
      "source": [
        "# For S1_K1 test with S2_K3_RW (NEW MODEL)"
      ],
      "metadata": {
        "id": "SZ30IGZ9WbUq"
      }
    },
    {
      "cell_type": "code",
      "source": [
        "x=[i for i in range(1, 61)]\n",
        "y = [1956, 621, 1971, 1255, 1510, 552, 1306, 1567, 1265, 1017, 1101, 1804, 920, 797, 1323,\n",
        "     2914, 1785, 2099, 1278, 3135, 1479, 1302, 1423, 4064, 1805, 3389, 2064, 4894, 1694, 2447,\n",
        "     2160, -1, 2702, 4797, 3729, -1, 2304, 3053, 3221, -1, 3019, 3951, 3118, -1, 2483, 3382, 3637, \n",
        "     -1, 3032, 4344, 3721, -1, 2332, 3469, 3039, 4122, 3197, 3096, 3471, 4948]\n",
        "\n",
        "\n",
        "y = np.log2(y)"
      ],
      "metadata": {
        "colab": {
          "base_uri": "https://localhost:8080/"
        },
        "id": "pMIYqErlWaBX",
        "outputId": "bec48aa6-17a2-4956-b87a-2893ddc218ba"
      },
      "execution_count": null,
      "outputs": [
        {
          "output_type": "stream",
          "name": "stderr",
          "text": [
            "<ipython-input-2-ef7f43536a42>:8: RuntimeWarning: invalid value encountered in log2\n",
            "  y = np.log2(y)\n"
          ]
        }
      ]
    },
    {
      "cell_type": "markdown",
      "source": [
        "# For S1_K1 test with S2_K3_O1"
      ],
      "metadata": {
        "id": "STbrdDOYUMc_"
      }
    },
    {
      "cell_type": "code",
      "source": [
        "x=[i for i in range(80, 141)]\n",
        "y =[-1,-1,-1,-1,-1,-1,3011,4701,4200,4821,1983,3316,2303,3698,1683,3807,2824,3530,2316,3884,3523,-1,2985,-1,-1,-1,4758,-1,-1,-1,-1,-1,-1,-1,-1,-1,-1,-1,-1,-1,-1,-1,-1,\n",
        "-1,-1,-1,-1,-1,-1,-1,-1,-1,-1,-1,-1,-1,-1,-1,-1,-1,-1]\n",
        "y = np.log2(y)\n",
        "x =[-i for i in x]\n"
      ],
      "metadata": {
        "colab": {
          "base_uri": "https://localhost:8080/"
        },
        "id": "dMwflD2U4WKt",
        "outputId": "4451b42a-3d32-486f-e251-d914cf479752"
      },
      "execution_count": null,
      "outputs": [
        {
          "output_type": "stream",
          "name": "stderr",
          "text": [
            "<ipython-input-4-0e59f16c1e38>:4: RuntimeWarning: invalid value encountered in log2\n",
            "  y = np.log2(y)\n"
          ]
        }
      ]
    },
    {
      "cell_type": "markdown",
      "source": [
        "# For S1_K1 test with S2_K3_O2"
      ],
      "metadata": {
        "id": "7Y9lT0IrSTjw"
      }
    },
    {
      "cell_type": "code",
      "source": [
        "x=[i for i in range(120, 221)]\n",
        "y = [-1,2392, -1, 2893, 3028, 1832, 4488, 2120, 2722, 1358, 3943, 1682, 1687, 1090, 2660, 1260, 1106, 746, \n",
        "     1866, 1020, 740, 870, 1503, 1190, 693, 1107, 1257, 1060, 500, 744, 1060, 683, 429, 495, 690, 522, \n",
        "     294, 802, 609, 963, 337, 761, 632, 908, 280, 712, 618, 751, 247, 485, 489, 631, 204, 671, 501, 456,\n",
        "     253, 326, 558, 344, 196, 323, 707, 210, 276, 279, 472, 223, 228, 271, 675, 222, 269, 244, 923, 244, \n",
        "     345, 306, 1671, 260, 683, 334, 1198, 350, 357, 395, 1925, 494, 1041, 848, 2903, 897, 1449, 1340, -1,\n",
        "     1423, 2134, 2103, 4440, 1614, 1173]\n",
        "\n",
        "x =[-i for i in x]\n",
        "\n",
        "y = np.log2(y)"
      ],
      "metadata": {
        "colab": {
          "base_uri": "https://localhost:8080/"
        },
        "id": "LiiLKt7NSR5x",
        "outputId": "1d6d78df-b301-4aed-a9f9-039f2461d776"
      },
      "execution_count": null,
      "outputs": [
        {
          "output_type": "stream",
          "name": "stderr",
          "text": [
            "<ipython-input-6-2cb5babc5039>:11: RuntimeWarning: invalid value encountered in log2\n",
            "  y = np.log2(y)\n"
          ]
        }
      ]
    },
    {
      "cell_type": "markdown",
      "source": [
        "# For S1_K1 test with S2_K3_O3\n"
      ],
      "metadata": {
        "id": "zQIZuMguyxiB"
      }
    },
    {
      "cell_type": "code",
      "source": [
        "x=[i for i in range(700, 801)]\n",
        "y = [-1] * 101\n",
        "y = np.log2(y)\n",
        "x =[-i for i in x]\n"
      ],
      "metadata": {
        "colab": {
          "base_uri": "https://localhost:8080/"
        },
        "id": "8-c6eH1cyqbK",
        "outputId": "1ba0d56a-b164-4dad-e1ad-7b998a833f44"
      },
      "execution_count": null,
      "outputs": [
        {
          "output_type": "stream",
          "name": "stderr",
          "text": [
            "<ipython-input-8-16ab6762c96d>:3: RuntimeWarning: invalid value encountered in log2\n",
            "  y = np.log2(y)\n"
          ]
        }
      ]
    },
    {
      "cell_type": "markdown",
      "source": [
        "# For S1_K1 test with S2_K3_ENC"
      ],
      "metadata": {
        "id": "iGFdwfY9Mdw6"
      }
    },
    {
      "cell_type": "code",
      "source": [
        "x=[i for i in range(420, 501)]\n",
        "y = [ -1, 2394, 2703, 3313, 3814, 2276, 1473, 2482, 2058, 2148, 1104,\n",
        "     1944, 1162, 1145, 629, 1347, 952, 914, 541, 859, 658, 817, 278, 617, 431, 487, 224, \n",
        "     466, 426, 389, 191, 399, 353, 319, 208, 292, 301, 342, 182, 283, 281, 311, 157, 309, \n",
        "     285, 302, 131, 269, 332, 294, 189, 228, 310, 275, 230, 229, 340, 269, 216, 250, 331, \n",
        "     410, 224, 340, 489, 426, 237, 335, 450, 469, 241, 385, 544, 559, 316, 495, 657, 784, 386, 733, 770]\n",
        "y = np.log2(y)\n"
      ],
      "metadata": {
        "colab": {
          "base_uri": "https://localhost:8080/"
        },
        "id": "3YTHmU--MWcW",
        "outputId": "98beaa8d-b9d1-4006-a007-81e44fbc8f12"
      },
      "execution_count": null,
      "outputs": [
        {
          "output_type": "stream",
          "name": "stderr",
          "text": [
            "<ipython-input-10-d241f8a54bbc>:7: RuntimeWarning: invalid value encountered in log2\n",
            "  y = np.log2(y)\n"
          ]
        }
      ]
    },
    {
      "cell_type": "markdown",
      "source": [
        "# For S1_K1 test with S2_K3_FLA"
      ],
      "metadata": {
        "id": "L9Ltq1nXYM2V"
      }
    },
    {
      "cell_type": "code",
      "source": [
        "x=[i for i in range(1500, 1601)]\n",
        "y =[393, 608, 201, 761, 294, 703, 193, 872, 320, 635, \n",
        "    207, 759, 249, 645, 188, 900, 301, 552, 186, 717, 276, 701, 167, 772, 199, \n",
        "    518, 121, 621, 259, 626, 200, 701, 255, 466, 144, 491, 174, 363, 132, 560, 229,\n",
        "    268, 125, 372, 247, 401, 157, 489, 204, 371, 116, 319, 157, 244, 152, 331, 188, 232,\n",
        "    120, 316, 178, 283, 153, 393, 271, 268, 142, 277, 177, 284, 141, 281, 272, 311, 155, \n",
        "    354, 189, 345, 209, 376, 264, 317, 230, 351, 296, 459, 257, 390, 367, 470, 392, 479, 464, \n",
        "    763, 569, 704, 665, 777, 482, 779, 633]\n",
        "y = np.log2(y)"
      ],
      "metadata": {
        "id": "qwKSWgfPYHT6"
      },
      "execution_count": null,
      "outputs": []
    },
    {
      "cell_type": "markdown",
      "source": [
        "# For S1_K1 test with S2_K3_Split"
      ],
      "metadata": {
        "id": "W8rMuP7bMw3s"
      }
    },
    {
      "cell_type": "code",
      "source": [
        "x=[i for i in range(400, 501)]\n",
        "y = [-1] * 101\n",
        "y = np.log2(y)\n"
      ],
      "metadata": {
        "colab": {
          "base_uri": "https://localhost:8080/"
        },
        "id": "ZMyXH3FKMxoJ",
        "outputId": "330340f6-b81f-49ae-811a-8279dd2a73e9"
      },
      "execution_count": null,
      "outputs": [
        {
          "output_type": "stream",
          "name": "stderr",
          "text": [
            "<ipython-input-14-9961a1000fe0>:3: RuntimeWarning: invalid value encountered in log2\n",
            "  y = np.log2(y)\n"
          ]
        }
      ]
    },
    {
      "cell_type": "markdown",
      "source": [
        "#For X1_K1 test with X2_K2_O1"
      ],
      "metadata": {
        "id": "7RCeP5XX6syj"
      }
    },
    {
      "cell_type": "code",
      "source": [
        "x=[i for i in range(100, 251)]\n",
        "y =lst = [-1,-1, -1, -1, -1, -1, -1, -1, -1, -1, -1, -1, -1, -1, 4216, -1,\n",
        "          -1, -1, 3112, -1, 2476, -1, 1701, -1, 2383, -1, 1037, -1, 815, \n",
        "          -1, 632, -1, 877, -1, 612, -1, 337, -1, 325, -1, 344, -1, 390, -1,\n",
        "          191, 4137, 201, -1, 275, -1, 421, 4871, 363, 3295, 299, -1, 430, \n",
        "          4671, 670, 4849, 412, 3501, 414, -1, 660, -1, 743, 3635, 608, 3067, \n",
        "          470, -1, 489, 4307, 599, 3798, 587, 3097, 415, -1, 458, 4946, 719, \n",
        "          3281, 829, 2926, 547, -1, 880, -1, 531, 4798, 603, 4828, 604, -1, \n",
        "          1005, -1, 574, -1, 643, -1, 670, -1, 963, -1, 773, -1, 625, -1, 788, \n",
        "          -1, 1043, -1, 827, -1, 436, -1, 1036, -1, 861, -1, 1127, -1, 506, -1, \n",
        "          1403, -1, 1049, -1, 1642, -1, 392, -1, 1973, -1, 1735, -1, -1, -1, 710,\n",
        "          -1, -1, -1, 3220, -1, -1, -1, 1644, -1, -1]\n",
        "\n",
        "\n",
        "\n",
        "\n",
        "x =[-i for i in x]\n",
        "\n",
        "y = np.log2(y)"
      ],
      "metadata": {
        "colab": {
          "base_uri": "https://localhost:8080/"
        },
        "id": "mCVniM0z6s_-",
        "outputId": "b772d473-50d6-4012-82d2-ad4652dbd912"
      },
      "execution_count": null,
      "outputs": [
        {
          "output_type": "stream",
          "name": "stderr",
          "text": [
            "<ipython-input-4-bd2786bccc4b>:19: RuntimeWarning: invalid value encountered in log2\n",
            "  y = np.log2(y)\n"
          ]
        }
      ]
    },
    {
      "cell_type": "markdown",
      "source": [
        "#For X1_K1 test with X2_K2_O2"
      ],
      "metadata": {
        "id": "Rod8VA-U74k_"
      }
    },
    {
      "cell_type": "code",
      "source": [
        "x=[i for i in range(250,351)]\n",
        "y = [-1, -1, -1, -1, -1, -1, -1, -1, 4894, -1, -1, -1, -1, -1, 2361, -1,\n",
        "     2194, -1, -1, -1, 3400, -1, 721, -1, 606, -1, 2383, -1, 1812, -1, 479, \n",
        "     -1, 346, -1, 898, -1, 892, -1, 363, -1, 170, -1, 374, -1, 336, -1, 520, \n",
        "     3875, 133, -1, 194, -1, 253, -1, 810, 4453, 296, -1, 162, -1, 113, -1, 948,\n",
        "     3784, 325, -1, 165, -1, 99, -1, 1524, 4498, 949, -1, 363, -1, 148, -1, 2432,\n",
        "     4204, 2792, -1, 714, -1, 242, -1, 2738, -1, 3993, -1, 1021, -1, 483, -1, 2791, \n",
        "     -1, 4186, -1, 1036, -1, 568]\n",
        "\n",
        "x =[-i for i in x]\n",
        "\n",
        "y = np.log2(y)"
      ],
      "metadata": {
        "colab": {
          "base_uri": "https://localhost:8080/"
        },
        "id": "7bZrvcDe7pqC",
        "outputId": "d5699044-8eed-487d-c21d-6f564d917426"
      },
      "execution_count": null,
      "outputs": [
        {
          "output_type": "stream",
          "name": "stderr",
          "text": [
            "<ipython-input-26-2dedd1a04234>:12: RuntimeWarning: invalid value encountered in log2\n",
            "  y = np.log2(y)\n"
          ]
        }
      ]
    },
    {
      "cell_type": "markdown",
      "source": [
        "# For X1_K1 test with X2_K2_O3\n"
      ],
      "metadata": {
        "id": "AZCVqQpPPeot"
      }
    },
    {
      "cell_type": "code",
      "source": [
        "x=[i for i in range(750, 851)]\n",
        "y = [-1, -1, -1, -1, -1, -1, -1, -1, -1, -1, -1, -1, -1, -1, -1, -1, 4214, \n",
        "     -1, -1, -1, 2577, -1, -1, -1, 4707, -1, -1, -1, 2092, -1, -1, -1, 1353, -1, 4516, \n",
        "     -1, 1311, -1, -1, -1, 2838, -1, -1, -1, 2240, -1, -1, -1, 1374, -1, 4003, -1, 1133,\n",
        "     -1, 4157, -1, 1298, -1, -1, -1, 1396, -1, 4476, -1, 1023, -1, 3527, -1, 993, -1, 4242,\n",
        "     -1, 1903, -1, -1, -1, 3009, -1, -1, -1, 2497, -1, -1, -1, 3102, -1, -1, -1, 4254, -1, \n",
        "     -1, -1, -1, -1, -1, -1, -1, -1, -1, -1, -1]\n",
        "\n",
        "\n",
        "x =[-i for i in x]\n",
        "\n",
        "y = np.log2(y)"
      ],
      "metadata": {
        "colab": {
          "base_uri": "https://localhost:8080/"
        },
        "id": "pN9a3czcPfEI",
        "outputId": "c9235f5b-60f0-4360-f4a3-11e3accb346d"
      },
      "execution_count": null,
      "outputs": [
        {
          "output_type": "stream",
          "name": "stderr",
          "text": [
            "<ipython-input-27-1a3c2ea7a762>:12: RuntimeWarning: invalid value encountered in log2\n",
            "  y = np.log2(y)\n"
          ]
        }
      ]
    },
    {
      "cell_type": "markdown",
      "source": [
        "# For X1_K1 test with X2_K2_FLA"
      ],
      "metadata": {
        "id": "8MEOj76mQw8M"
      }
    },
    {
      "cell_type": "code",
      "source": [
        "x=[i for i in range(4040, 4141)]\n",
        "\n",
        "y  = [1339, 3570, 3207, 2592, 2080, 2006, 3399, \n",
        "      2371, 2651, 3034, 3036, 1615, 1827, 2046, 2337, \n",
        "      2099, 1029, 2001, 1662, 1231, 1107, 1402, 1591, \n",
        "      1593, 687, 1843, 1212, 1123, 347, 1579, 383, 1381,\n",
        "      114, 1412, 263, 1132, 122, 1213, 206, 1341, 138, 1327, \n",
        "      231, 858, 60, 1107, 75, 1037, 58, 1550, 65, 1152, 50, 1115,\n",
        "      47, 1350, 51, 1661, 60, 1658, 99, 1558, 133, 1725, \n",
        "      171, 1943, 148, 1694, 270, 2022, 253, 2461, 185, 2880, \n",
        "      164, 2896, 331, 3270, 365, 2994, 372, 3617, 315, 4023, \n",
        "      1119, 4970, 724, -1, 502, -1, 439, -1, 1269, -1, 736, -1, 916, -1, 1324, -1,4856]\n",
        "\n",
        "\n",
        "y = np.log2(y)"
      ],
      "metadata": {
        "colab": {
          "base_uri": "https://localhost:8080/"
        },
        "id": "3gAMMOFrQxSH",
        "outputId": "c9611bca-9d15-4305-b755-6c0f58e3108e"
      },
      "execution_count": null,
      "outputs": [
        {
          "output_type": "stream",
          "name": "stderr",
          "text": [
            "<ipython-input-11-d2e47bbd7f45>:15: RuntimeWarning: invalid value encountered in log2\n",
            "  y = np.log2(y)\n"
          ]
        }
      ]
    },
    {
      "cell_type": "markdown",
      "source": [
        "# For X1_K1 test with X2_K2_SPLIT"
      ],
      "metadata": {
        "id": "euXJHFqhthkp"
      }
    },
    {
      "cell_type": "code",
      "source": [
        "x=[i for i in range(700, 801)]\n",
        "\n",
        "y   = [2511, -1, 3964, -1, 932, -1, -1, -1, 2638, -1, 4789, -1, 801,\n",
        "       -1, 4807, -1, 1992, -1, 4274, -1, 639, -1, -1, -1, 1345, -1, \n",
        "       -1, -1, 698, -1, 3729, -1, 1117, -1, -1, -1, 435, -1, 4956, -1,\n",
        "       1056, -1, 4675, -1, 419, -1, 3314, -1, 1324, -1, -1, -1, 615, -1,\n",
        "       -1, -1, 1376, -1, -1, -1, 620, -1, 4781, -1, 2074, -1, -1, -1, 1110,\n",
        "       -1, -1, -1, 1987, -1, -1, -1, 700, -1, 4521, -1, 2415, -1, -1, -1, \n",
        "       1122, -1, 4910, -1, 2642, -1, -1, -1, 1362, -1, 4484, -1, 3997, -1, -1, -1, 2545]\n",
        "\n",
        "\n",
        "\n",
        "y = np.log2(y)"
      ],
      "metadata": {
        "colab": {
          "base_uri": "https://localhost:8080/"
        },
        "id": "BHJs7LI4teux",
        "outputId": "8de286ce-4326-4c1b-d7a8-aa9965303132"
      },
      "execution_count": null,
      "outputs": [
        {
          "output_type": "stream",
          "name": "stderr",
          "text": [
            "<ipython-input-3-2b820b107505>:13: RuntimeWarning: invalid value encountered in log2\n",
            "  y = np.log2(y)\n"
          ]
        }
      ]
    },
    {
      "cell_type": "markdown",
      "source": [
        "#Plot Code"
      ],
      "metadata": {
        "id": "yWEiYLJkToCW"
      }
    },
    {
      "cell_type": "code",
      "source": [
        "f1=True\n",
        "f2=True\n",
        "for i in range(len(x)):\n",
        "  if(math.isnan(y[i])):\n",
        "    if(f1):\n",
        "      plt.scatter(x[i],14,marker='^',color='red',s=100,label='Key Not Revealed')\n",
        "      f1=False\n",
        "    else:\n",
        "      plt.scatter(x[i],14,marker='^',color='red',s=100)\n",
        "  else: \n",
        "    if(f2): \n",
        "      plt.scatter(x[i], y[i],marker='*',color='Blue',s=120,label='Key Revealed')\n",
        "      f2=False\n",
        "    else:\n",
        "      plt.scatter(x[i], y[i],marker='*',color='Blue',s=120)\n",
        "\n",
        "plt.yticks([0,2,4,6,8,10,12,14],['$2^0$', '$2^2$', '$2^4$', '$2^6$', '$2^8$','$2^{10}$','$2^{12}$','$2^{14}$'])\n",
        "plt.xticks([-250,-225,-200,-175,-150,-125,-100],fontsize=20)\n",
        "plt.yticks(fontsize=20)\n",
        "plt.legend(loc='lower right',fontsize=20)\n",
        "plt.xlabel('POI Offest (Testing)',fontsize=20)\n",
        "plt.ylabel('KRC',fontsize=20)\n",
        "plt.show()\n"
      ],
      "metadata": {
        "colab": {
          "base_uri": "https://localhost:8080/",
          "height": 481
        },
        "id": "QLNd4SmKlyAy",
        "outputId": "942e0ed8-c7a3-4e4a-8a9a-22bca1199495"
      },
      "execution_count": null,
      "outputs": [
        {
          "output_type": "display_data",
          "data": {
            "text/plain": [
              "<Figure size 640x480 with 1 Axes>"
            ],
            "image/png": "[encoded data removed]"
          },
          "metadata": {}
        }
      ]
    },
    {
      "cell_type": "code",
      "source": [],
      "metadata": {
        "id": "-VN7yhN7RKAu"
      },
      "execution_count": null,
      "outputs": []
    }
  ]
}